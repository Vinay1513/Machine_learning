{
 "cells": [
  {
   "cell_type": "code",
   "execution_count": null,
   "id": "5f055851-96ec-4c8d-b00e-e97ddcff140d",
   "metadata": {},
   "outputs": [],
   "source": [
    "# 1.Write a program to take a 2d numpy from the user and Check Whether the given 2D NumPy array is symmetric or not."
   ]
  },
  {
   "cell_type": "code",
   "execution_count": null,
   "id": "2e2111e5-b2ec-4e20-a249-baba0c3008bd",
   "metadata": {},
   "outputs": [],
   "source": [
    "# 2.Write a Program to ﬁnd the sum of the diagonal elements of a square 2D NumPy array."
   ]
  },
  {
   "cell_type": "code",
   "execution_count": 3,
   "id": "d93c0c1b-540a-4311-bfb6-26cb2dc6619e",
   "metadata": {},
   "outputs": [
    {
     "name": "stdout",
     "output_type": "stream",
     "text": [
      "Sum of diagonal elements (array1): 15\n",
      "Sum of diagonal elements (array2): 10\n"
     ]
    }
   ],
   "source": [
    "import numpy as np\n",
    "\n",
    "def sum_of_diagonal_elements(array):\n",
    "    \n",
    "    if len(array.shape) != 2 or array.shape[0] != array.shape[1]:\n",
    "        return None\n",
    "    \n",
    "\n",
    "    size = array.shape[0]\n",
    "   \n",
    "    diagonal_sum = np.trace(array)\n",
    "    \n",
    "    return diagonal_sum\n",
    "\n",
    "\n",
    "array1 = np.array([[1, 2, 3],\n",
    "                   [4, 5, 6],\n",
    "                   [7, 8, 9]])\n",
    "\n",
    "array2 = np.array([[2, 4],\n",
    "                   [6, 8]])\n",
    "\n",
    "\n",
    "result1 = sum_of_diagonal_elements(array1)\n",
    "if result1 is not None:\n",
    "    print(\"Sum of diagonal elements (array1):\", result1)\n",
    "else:\n",
    "    print(\"Input array1 is not a square matrix.\")\n",
    "\n",
    "\n",
    "result2 = sum_of_diagonal_elements(array2)\n",
    "if result2 is not None:\n",
    "    print(\"Sum of diagonal elements (array2):\", result2)\n",
    "else:\n",
    "    print(\"Input array2 is not a square matrix.\")\n"
   ]
  },
  {
   "cell_type": "code",
   "execution_count": null,
   "id": "95e16925-f852-4f3b-803b-659757a98307",
   "metadata": {},
   "outputs": [],
   "source": [
    "# 3. Write a Program to rotate a given 2D NumPy array by 90 degrees anti-clockwise."
   ]
  },
  {
   "cell_type": "code",
   "execution_count": 4,
   "id": "9fe4a5f6-19c7-4c78-aec8-00f0efada73d",
   "metadata": {},
   "outputs": [
    {
     "name": "stdout",
     "output_type": "stream",
     "text": [
      "Rotated Array 1 (90 degrees anti-clockwise):\n",
      " [[3 6 9]\n",
      " [2 5 8]\n",
      " [1 4 7]]\n",
      "Rotated Array 2 (90 degrees anti-clockwise):\n",
      " [[2 4 6]\n",
      " [1 3 5]]\n"
     ]
    }
   ],
   "source": [
    "import numpy as np\n",
    "\n",
    "def rotate_90_anticlockwise(array):\n",
    "  \n",
    "    rotated_array = np.flipud(array.T)\n",
    "    return rotated_array\n",
    "\n",
    "\n",
    "array1 = np.array([[1, 2, 3],\n",
    "                   [4, 5, 6],\n",
    "                   [7, 8, 9]])\n",
    "\n",
    "array2 = np.array([[1, 2],\n",
    "                   [3, 4],\n",
    "                   [5, 6]])\n",
    "\n",
    "\n",
    "rotated_array1 = rotate_90_anticlockwise(array1)\n",
    "print(\"Rotated Array 1 (90 degrees anti-clockwise):\\n\", rotated_array1)\n",
    "\n",
    "rotated_array2 = rotate_90_anticlockwise(array2)\n",
    "print(\"Rotated Array 2 (90 degrees anti-clockwise):\\n\", rotated_array2)\n"
   ]
  },
  {
   "cell_type": "code",
   "execution_count": null,
   "id": "ce411892-3a74-443a-bae6-38adf898e5f2",
   "metadata": {},
   "outputs": [],
   "source": [
    "#4.write a Program to ﬁnd the largest element in each row of a 2D NumPy array."
   ]
  },
  {
   "cell_type": "code",
   "execution_count": 5,
   "id": "737a9c50-289b-4dc6-85a7-a9a263c04b04",
   "metadata": {},
   "outputs": [
    {
     "name": "stdout",
     "output_type": "stream",
     "text": [
      "Largest element in each row of array1: [7 8 9]\n",
      "Largest element in each row of array2: [9 8 7]\n"
     ]
    }
   ],
   "source": [
    "import numpy as np\n",
    "\n",
    "def find_largest_in_each_row(array):\n",
    "   \n",
    "    largest_elements = np.max(array, axis=1)\n",
    "    return largest_elements\n",
    "\n",
    "\n",
    "array1 = np.array([[1, 4, 7],\n",
    "                   [2, 5, 8],\n",
    "                   [3, 6, 9]])\n",
    "\n",
    "array2 = np.array([[9, 2, 3],\n",
    "                   [4, 8, 5],\n",
    "                   [6, 1, 7]])\n",
    "\n",
    "result1 = find_largest_in_each_row(array1)\n",
    "print(\"Largest element in each row of array1:\", result1)\n",
    "\n",
    "\n",
    "result2 = find_largest_in_each_row(array2)\n",
    "print(\"Largest element in each row of array2:\", result2)\n"
   ]
  },
  {
   "cell_type": "code",
   "execution_count": null,
   "id": "f7042ebd-1ca4-45ce-9b4f-3318f14c1214",
   "metadata": {},
   "outputs": [],
   "source": [
    "#5 write a program to ﬁnd the average of each column in a 2D NumPy array."
   ]
  },
  {
   "cell_type": "code",
   "execution_count": 6,
   "id": "91cc3f5e-fc61-4f30-bc74-ad5e7c891f2b",
   "metadata": {},
   "outputs": [
    {
     "name": "stdout",
     "output_type": "stream",
     "text": [
      "Average of each column for array1: [4. 5. 6.]\n",
      "Average of each column for array2: [4. 6.]\n"
     ]
    }
   ],
   "source": [
    "import numpy as np\n",
    "\n",
    "def average_of_each_column(array):\n",
    "    \n",
    "    column_averages = np.mean(array, axis=0)\n",
    "    return column_averages\n",
    "\n",
    "\n",
    "array1 = np.array([[1, 2, 3],\n",
    "                   [4, 5, 6],\n",
    "                   [7, 8, 9]])\n",
    "\n",
    "array2 = np.array([[2, 4],\n",
    "                   [6, 8]])\n",
    "\n",
    "\n",
    "result1 = average_of_each_column(array1)\n",
    "print(\"Average of each column for array1:\", result1)\n",
    "\n",
    "result2 = average_of_each_column(array2)\n",
    "print(\"Average of each column for array2:\", result2)\n"
   ]
  },
  {
   "cell_type": "code",
   "execution_count": null,
   "id": "01b48f8e-41de-4ffd-b39e-bebadb1d7ffb",
   "metadata": {},
   "outputs": [],
   "source": [
    "# 6. Write a program to count the number of occurrences of a speciﬁc value in a 2D NumPy array."
   ]
  },
  {
   "cell_type": "code",
   "execution_count": 9,
   "id": "7b4199f8-8386-4ce6-8cff-c6e8f88858b9",
   "metadata": {},
   "outputs": [
    {
     "name": "stdout",
     "output_type": "stream",
     "text": [
      "Number of occurrences of 2 in the array: 1\n",
      "Number of occurrences of 4 in the array: 2\n"
     ]
    }
   ],
   "source": [
    "import numpy as np\n",
    "\n",
    "def count_occurrences_2d_array(array, value):\n",
    "   \n",
    "    flattened_array = array.ravel()\n",
    "    \n",
    " \n",
    "    count = np.count_nonzero(flattened_array == value)\n",
    "    \n",
    "    return count\n",
    "\n",
    "\n",
    "array = np.array([[1, 2, 3], [4, 5, 6], [7, 8, 9]])\n",
    "value = 2\n",
    "array1 = np.array([[2, 4, 6], [8, 2, 4], [2, 2, 2]])\n",
    "value1 = 4\n",
    "\n",
    "result = count_occurrences_2d_array(array, value)\n",
    "print(\"Number of occurrences of\", value, \"in the array:\", result)\n",
    "result1 = count_occurrences_2d_array(array1, value1)\n",
    "print(\"Number of occurrences of\", value1, \"in the array:\", result1)\n"
   ]
  },
  {
   "cell_type": "code",
   "execution_count": null,
   "id": "888b2aa2-302a-47d7-81c1-a95bb3507aa5",
   "metadata": {},
   "outputs": [],
   "source": [
    "#7. Write a Program to ﬁnd the determinant of a 2x2 matrix represented as a NumPy array.\n"
   ]
  },
  {
   "cell_type": "code",
   "execution_count": 10,
   "id": "903a0771-e0ee-4e4a-a492-bfd9bfa56a45",
   "metadata": {},
   "outputs": [
    {
     "name": "stdout",
     "output_type": "stream",
     "text": [
      "Determinant of array1: -2\n",
      "Determinant of array2: -1\n"
     ]
    }
   ],
   "source": [
    "import numpy as np\n",
    "\n",
    "def determinant_2x2_matrix(array):\n",
    "   \n",
    "    a = array[0, 0]\n",
    "    b = array[0, 1]\n",
    "    c = array[1, 0]\n",
    "    d = array[1, 1]\n",
    "    \n",
    " \n",
    "    determinant_value = (a * d) - (b * c)\n",
    "    \n",
    "    return determinant_value\n",
    "\n",
    "array1 = np.array([[1, 2], [3, 4]])\n",
    "array2 = np.array([[2, 5], [3, 7]])\n",
    "\n",
    "determinant1 = determinant_2x2_matrix(array1)\n",
    "determinant2 = determinant_2x2_matrix(array2)\n",
    "\n",
    "print(\"Determinant of array1:\", determinant1)\n",
    "print(\"Determinant of array2:\", determinant2)\n"
   ]
  },
  {
   "cell_type": "code",
   "execution_count": null,
   "id": "fbc3b7f9-2ed3-484e-abe0-fb1e2f11efb7",
   "metadata": {},
   "outputs": [],
   "source": [
    "# 8. Write a program to pad a given 2D NumPy array with zeros around its borders."
   ]
  },
  {
   "cell_type": "code",
   "execution_count": 11,
   "id": "955efbb0-9fbb-4155-ad7b-1054a3083f0e",
   "metadata": {},
   "outputs": [
    {
     "name": "stdout",
     "output_type": "stream",
     "text": [
      "Padded array 1:\n",
      "[[0 0 0 0 0]\n",
      " [0 1 2 3 0]\n",
      " [0 4 5 6 0]\n",
      " [0 0 0 0 0]]\n",
      "\n",
      "Padded array 2:\n",
      "[[0 0 0 0]\n",
      " [0 9 8 0]\n",
      " [0 7 6 0]\n",
      " [0 0 0 0]]\n"
     ]
    }
   ],
   "source": [
    "import numpy as np\n",
    "\n",
    "def pad_array_with_zeros(array):\n",
    " \n",
    "    rows, cols = array.shape\n",
    "    \n",
    "\n",
    "    padded_array = np.pad(array, ((1, 1), (1, 1)), mode='constant', constant_values=0)\n",
    "    \n",
    "    return padded_array\n",
    "\n",
    "\n",
    "array1 = np.array([[1, 2, 3], [4, 5, 6]])\n",
    "array2 = np.array([[9, 8], [7, 6]])\n",
    "\n",
    "padded_array1 = pad_array_with_zeros(array1)\n",
    "padded_array2 = pad_array_with_zeros(array2)\n",
    "\n",
    "print(\"Padded array 1:\")\n",
    "print(padded_array1)\n",
    "\n",
    "print(\"\\nPadded array 2:\")\n",
    "print(padded_array2)\n"
   ]
  },
  {
   "cell_type": "code",
   "execution_count": null,
   "id": "fe638094-e272-4445-b2dd-854f8188c3fa",
   "metadata": {},
   "outputs": [],
   "source": [
    "# 9. Write a program to ﬁnd the index of the maximum element in a 2D NumPy array."
   ]
  },
  {
   "cell_type": "code",
   "execution_count": 12,
   "id": "db14d586-9ee7-4e73-8aba-9337c09e542a",
   "metadata": {},
   "outputs": [
    {
     "name": "stdout",
     "output_type": "stream",
     "text": [
      "Index of maximum element in array 1: (1, 1)\n",
      "Index of maximum element in array 2: (1, 1)\n"
     ]
    }
   ],
   "source": [
    "import numpy as np\n",
    "\n",
    "def find_max_element_index(array):\n",
    "   \n",
    "    flat_index = np.argmax(array)  # Find the index of the maximum element in the flattened array\n",
    "\n",
    "    max_index_2d = np.unravel_index(flat_index, array.shape)       \n",
    "    # Convert the flattened index to 2D coordinates\n",
    "    \n",
    "    return max_index_2d\n",
    "\n",
    "\n",
    "array1 = np.array([[1, 3, 5], [4, 9, 2], [8, 7, 6]])\n",
    "array2 = np.array([[7, 2, 4], [5, 9, 8], [6, 3, 1]])\n",
    "\n",
    "max_index1 = find_max_element_index(array1)\n",
    "max_index2 = find_max_element_index(array2)\n",
    "\n",
    "print(\"Index of maximum element in array 1:\", max_index1)\n",
    "print(\"Index of maximum element in array 2:\", max_index2)\n"
   ]
  },
  {
   "cell_type": "code",
   "execution_count": null,
   "id": "a6d39da7-58ac-4413-8d4f-ebb38821e643",
   "metadata": {},
   "outputs": [],
   "source": [
    "# 10. Write a program to check if a given 2D NumPy array contains any duplicate rows."
   ]
  },
  {
   "cell_type": "code",
   "execution_count": 13,
   "id": "6330d6d7-8496-413d-a336-e19c99d2bc79",
   "metadata": {},
   "outputs": [
    {
     "name": "stdout",
     "output_type": "stream",
     "text": [
      "Output: No\n",
      "Output: Yes\n"
     ]
    }
   ],
   "source": [
    "import numpy as np\n",
    "\n",
    "def contains_duplicate_rows(array):\n",
    "    # Convert each row of the array into a tuple for hashing\n",
    "    # Then, use set to check for duplicates\n",
    "    seen_rows = set()\n",
    "    \n",
    "    for row in array:\n",
    "        # Convert the row to a tuple to make it hashable\n",
    "        row_tuple = tuple(row)\n",
    "        \n",
    "        # Check if the row_tuple has been seen before\n",
    "        if row_tuple in seen_rows:\n",
    "            return True\n",
    "        else:\n",
    "            seen_rows.add(row_tuple)\n",
    "    \n",
    "    return False\n",
    "\n",
    "\n",
    "array1 = np.array([[1, 2, 3], [4, 5, 6], [7, 8, 9]])\n",
    "array2 = np.array([[1, 2, 3], [4, 5, 6], [1, 2, 3]])\n",
    "\n",
    "result1 = contains_duplicate_rows(array1)\n",
    "result2 = contains_duplicate_rows(array2)\n",
    "\n",
    "if result1:\n",
    "    print(\"Output: Yes\")\n",
    "else:\n",
    "    print(\"Output: No\")\n",
    "\n",
    "if result2:\n",
    "    print(\"Output: Yes\")\n",
    "else:\n",
    "    print(\"Output: No\")\n"
   ]
  },
  {
   "cell_type": "code",
   "execution_count": null,
   "id": "c6a31a5c-d81a-40cb-b174-46fb9fb01233",
   "metadata": {},
   "outputs": [],
   "source": []
  }
 ],
 "metadata": {
  "kernelspec": {
   "display_name": "Python 3 (ipykernel)",
   "language": "python",
   "name": "python3"
  },
  "language_info": {
   "codemirror_mode": {
    "name": "ipython",
    "version": 3
   },
   "file_extension": ".py",
   "mimetype": "text/x-python",
   "name": "python",
   "nbconvert_exporter": "python",
   "pygments_lexer": "ipython3",
   "version": "3.11.0"
  }
 },
 "nbformat": 4,
 "nbformat_minor": 5
}
