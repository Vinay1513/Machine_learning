{
 "cells": [
  {
   "cell_type": "code",
   "execution_count": null,
   "id": "bc2d8592-734e-466e-9c84-2539c0c67de4",
   "metadata": {},
   "outputs": [],
   "source": [
    "# 1.Write a program to calculate the alternate sum of elements in a 2d numpy array(start from 0)"
   ]
  },
  {
   "cell_type": "code",
   "execution_count": 8,
   "id": "c67a9de2-b3e7-468f-a663-ac924c2461af",
   "metadata": {},
   "outputs": [
    {
     "name": "stdin",
     "output_type": "stream",
     "text": [
      "Enter the number of rows:  3\n",
      "Enter the number of columns:  3\n"
     ]
    },
    {
     "name": "stdout",
     "output_type": "stream",
     "text": [
      "Enter the elements row-wise:\n"
     ]
    },
    {
     "name": "stdin",
     "output_type": "stream",
     "text": [
      "Element [0][0]:  1\n",
      "Element [0][1]:  2\n",
      "Element [0][2]:  3\n",
      "Element [1][0]:  4\n",
      "Element [1][1]:  5\n",
      "Element [1][2]:  6\n",
      "Element [2][0]:  7\n",
      "Element [2][1]:  8\n",
      "Element [2][2]:  9\n"
     ]
    },
    {
     "name": "stdout",
     "output_type": "stream",
     "text": [
      "Alternate Sum: 25\n"
     ]
    }
   ],
   "source": [
    "import numpy as np\n",
    "\n",
    "def altSum(arr):\n",
    "    sumEle = 0\n",
    "    for i in range(len(arr)):\n",
    "        for j in range(len(arr[i])):\n",
    "            if (i + j) % 2 == 0:\n",
    "                sumEle += arr[i][j]\n",
    "    return sumEle\n",
    "\n",
    "\n",
    "row = int(input(\"Enter the number of rows: \"))\n",
    "col = int(input(\"Enter the number of columns: \"))\n",
    "\n",
    "\n",
    "arr = np.zeros((row, col), dtype=int)\n",
    "print(\"Enter the elements row-wise:\")\n",
    "\n",
    "\n",
    "for i in range(row):\n",
    "    for j in range(col):\n",
    "        arr[i][j] = int(input(f\"Element [{i}][{j}]: \"))\n",
    "\n",
    "# Calculate the alternate sum\n",
    "sumEle = altSum(arr)\n",
    "print(\"Alternate Sum:\", sumEle)\n",
    "\n"
   ]
  },
  {
   "cell_type": "code",
   "execution_count": null,
   "id": "1cbde7fe-51d7-4090-8dfb-8650341acaed",
   "metadata": {},
   "outputs": [],
   "source": [
    "# 2. Write a program to find the all even numbers from the given 2d numpy array"
   ]
  },
  {
   "cell_type": "code",
   "execution_count": 11,
   "id": "dd52b3b6-aaff-4d1a-925b-3a6aed3bbeca",
   "metadata": {},
   "outputs": [
    {
     "name": "stdin",
     "output_type": "stream",
     "text": [
      "Enter the number of rows:  3\n",
      "Enter the numbers for row 1 separated by spaces:  4\n",
      "Enter the numbers for row 2 separated by spaces:  6\n",
      "Enter the numbers for row 3 separated by spaces:  8\n"
     ]
    },
    {
     "name": "stdout",
     "output_type": "stream",
     "text": [
      "Even numbers in the array are: [4 6 8]\n"
     ]
    }
   ],
   "source": [
    "import numpy as np\n",
    "\n",
    "def get_user_input():\n",
    "    rows = int(input(\"Enter the number of rows: \"))\n",
    "    arr = []\n",
    "    for i in range(rows):\n",
    "        row = list(map(int, input(f\"Enter the numbers for row {i+1} separated by spaces: \").split()))\n",
    "        arr.append(row)\n",
    "    return np.array(arr)\n",
    "\n",
    "def find_even_numbers(arr):\n",
    "    return arr[arr % 2 == 0]\n",
    "\n",
    "\n",
    "array = get_user_input()\n",
    "\n",
    "\n",
    "even_numbers = find_even_numbers(array)\n",
    "\n",
    "\n",
    "print(\"Even numbers in the array are:\", even_numbers)\n"
   ]
  },
  {
   "cell_type": "code",
   "execution_count": null,
   "id": "0290df63-2e7d-46d7-beb3-3eb7c280eebc",
   "metadata": {},
   "outputs": [],
   "source": [
    "# 3.  Write a program to find the all prime numbers from the given 2d numpy array"
   ]
  },
  {
   "cell_type": "code",
   "execution_count": 12,
   "id": "eb85c5c5-11bb-4f27-b537-56fffa73dec6",
   "metadata": {},
   "outputs": [
    {
     "name": "stdin",
     "output_type": "stream",
     "text": [
      "Enter the number of rows:  3\n",
      "Enter the numbers for row 1 separated by spaces:  2\n",
      "Enter the numbers for row 2 separated by spaces:  5\n",
      "Enter the numbers for row 3 separated by spaces:  6\n"
     ]
    },
    {
     "name": "stdout",
     "output_type": "stream",
     "text": [
      "Prime numbers in the array are: [2 5]\n"
     ]
    }
   ],
   "source": [
    "import numpy as np\n",
    "\n",
    "def get_user_input():\n",
    "    rows = int(input(\"Enter the number of rows: \"))\n",
    "    arr = []\n",
    "    for i in range(rows):\n",
    "        row = list(map(int, input(f\"Enter the numbers for row {i+1} separated by spaces: \").split()))\n",
    "        arr.append(row)\n",
    "    return np.array(arr)\n",
    "\n",
    "def is_prime(n):\n",
    "    if n <= 1:\n",
    "        return False\n",
    "    for i in range(2, int(np.sqrt(n)) + 1):\n",
    "        if n % i == 0:\n",
    "            return False\n",
    "    return True\n",
    "\n",
    "def find_prime_numbers(arr):\n",
    "    prime_numbers = []\n",
    "    for num in np.nditer(arr):\n",
    "        if is_prime(num):\n",
    "            prime_numbers.append(num)\n",
    "    return np.array(prime_numbers)\n",
    "\n",
    "\n",
    "array = get_user_input()\n",
    "\n",
    "\n",
    "prime_numbers = find_prime_numbers(array)\n",
    "\n",
    "\n",
    "print(\"Prime numbers in the array are:\", prime_numbers)\n"
   ]
  },
  {
   "cell_type": "code",
   "execution_count": null,
   "id": "febe130c-be72-4253-ba8d-06ed348c0cf4",
   "metadata": {},
   "outputs": [],
   "source": [
    "# 4. WAP Generate a 5x5 numpy array of random integers and write a loop to find and print the maximum value in each row"
   ]
  },
  {
   "cell_type": "code",
   "execution_count": 13,
   "id": "684dedf8-2472-43b0-8bcb-0507006b3eda",
   "metadata": {},
   "outputs": [
    {
     "name": "stdin",
     "output_type": "stream",
     "text": [
      "Enter the lowest possible integer:  3\n",
      "Enter the highest possible integer:  8\n"
     ]
    },
    {
     "name": "stdout",
     "output_type": "stream",
     "text": [
      "Generated 5x5 array:\n",
      "[[5 8 7 8 7]\n",
      " [7 3 3 7 6]\n",
      " [4 4 4 4 7]\n",
      " [5 3 5 5 4]\n",
      " [5 5 3 7 3]]\n",
      "Maximum values in each row: [8, 7, 7, 5, 7]\n"
     ]
    }
   ],
   "source": [
    "import numpy as np\n",
    "\n",
    "\n",
    "low = int(input(\"Enter the lowest possible integer: \"))\n",
    "high = int(input(\"Enter the highest possible integer: \"))\n",
    "\n",
    "\n",
    "arr = np.random.randint(low, high+1, size=(5, 5))\n",
    "\n",
    "print(\"Generated 5x5 array:\")\n",
    "print(arr)\n",
    "\n",
    "\n",
    "max_values = []\n",
    "for row in arr:\n",
    "    max_values.append(np.max(row))\n",
    "\n",
    "print(\"Maximum values in each row:\", max_values)\n"
   ]
  },
  {
   "cell_type": "code",
   "execution_count": null,
   "id": "215e6f3d-463a-494c-828f-3fe8aa66327b",
   "metadata": {},
   "outputs": [],
   "source": [
    "# 5. WAP to print the non-corner elements from the 2d numpy array"
   ]
  },
  {
   "cell_type": "code",
   "execution_count": 15,
   "id": "4d9c6360-18ae-47e8-bda1-eb9955799493",
   "metadata": {},
   "outputs": [
    {
     "name": "stdin",
     "output_type": "stream",
     "text": [
      "Enter the number of rows:  4\n",
      "Enter the numbers for row 1 separated by spaces:  -3\n",
      "Enter the numbers for row 2 separated by spaces:  4\n",
      "Enter the numbers for row 3 separated by spaces:  -6\n",
      "Enter the numbers for row 4 separated by spaces:  3\n"
     ]
    },
    {
     "name": "stdout",
     "output_type": "stream",
     "text": [
      "Non-corner elements in the array are: []\n"
     ]
    }
   ],
   "source": [
    "import numpy as np\n",
    "\n",
    "def get_user_input():\n",
    "    rows = int(input(\"Enter the number of rows: \"))\n",
    "    arr = []\n",
    "    for i in range(rows):\n",
    "        row = list(map(int, input(f\"Enter the numbers for row {i+1} separated by spaces: \").split()))\n",
    "        arr.append(row)\n",
    "    return np.array(arr)\n",
    "\n",
    "def get_non_corner_elements(arr):\n",
    "    return arr[1:-1, 1:-1].flatten()\n",
    "\n",
    "\n",
    "array = get_user_input()\n",
    "\n",
    "\n",
    "non_corner_elements = get_non_corner_elements(array)\n",
    "\n",
    "\n",
    "print(\"Non-corner elements in the array are:\", non_corner_elements)\n"
   ]
  },
  {
   "cell_type": "code",
   "execution_count": null,
   "id": "e4928fd5-2003-4b4a-8601-bbaaf521fccf",
   "metadata": {},
   "outputs": [],
   "source": [
    "# 6. WAP that takes two 2d numpy arrays as input and returns a new array containing the elements that are common to both arrays"
   ]
  },
  {
   "cell_type": "code",
   "execution_count": 35,
   "id": "4dc1b50d-0492-418c-a452-621f425e00f8",
   "metadata": {},
   "outputs": [
    {
     "name": "stdin",
     "output_type": "stream",
     "text": [
      "Enter the number of rows for the first array:  2\n",
      "Enter the numbers for row 1 of the first array separated by spaces:  1 2 3\n",
      "Enter the numbers for row 2 of the first array separated by spaces:  4 5 6\n",
      "Enter the number of rows for the second array:  2\n",
      "Enter the numbers for row 1 of the second array separated by spaces:  3 4 5\n",
      "Enter the numbers for row 2 of the second array separated by spaces:  6 7 8\n"
     ]
    },
    {
     "name": "stdout",
     "output_type": "stream",
     "text": [
      "Common elements in the two arrays are: [3 4 5 6]\n"
     ]
    }
   ],
   "source": [
    "import numpy as np\n",
    "\n",
    "def get_user_input():\n",
    "    rows1 = int(input(\"Enter the number of rows for the first array: \"))\n",
    "    arr1 = []\n",
    "    for i in range(rows1):\n",
    "        row = list(map(int, input(f\"Enter the numbers for row {i+1} of the first array separated by spaces: \").split()))\n",
    "        arr1.append(row)\n",
    "    \n",
    "    rows2 = int(input(\"Enter the number of rows for the second array: \"))\n",
    "    arr2 = []\n",
    "    for i in range(rows2):\n",
    "        row = list(map(int, input(f\"Enter the numbers for row {i+1} of the second array separated by spaces: \").split()))\n",
    "        arr2.append(row)\n",
    "    \n",
    "    return np.array(arr1), np.array(arr2)\n",
    "\n",
    "def find_common_elements(arr1, arr2):\n",
    "    return np.intersect1d(arr1, arr2)\n",
    "\n",
    "\n",
    "array1, array2 = get_user_input()\n",
    "\n",
    "common_elements = find_common_elements(array1, array2)\n",
    "\n",
    "\n",
    "print(\"Common elements in the two arrays are:\", common_elements)\n"
   ]
  },
  {
   "cell_type": "code",
   "execution_count": null,
   "id": "d5d8dfa0-2284-48d7-bc15-7467f2b74d73",
   "metadata": {},
   "outputs": [],
   "source": [
    "# 7. WAP that takes a 2d numpy array and a threshold value as input and returns \n",
    "# a new array where any element greater than the threshold is replaced with the threshold value"
   ]
  },
  {
   "cell_type": "code",
   "execution_count": 31,
   "id": "45df962f-e7f7-4d59-aa1b-33be33ebd44c",
   "metadata": {},
   "outputs": [
    {
     "name": "stdin",
     "output_type": "stream",
     "text": [
      "Enter the number of rows:  2\n",
      "Enter the number of columns:  3\n"
     ]
    },
    {
     "name": "stdout",
     "output_type": "stream",
     "text": [
      "Enter elements for the array:\n"
     ]
    },
    {
     "name": "stdin",
     "output_type": "stream",
     "text": [
      "Enter the numbers for row 1 separated by spaces:  1 2 3\n",
      "Enter the numbers for row 2 separated by spaces:  4 5 6\n",
      "Enter the threshold value:  3\n"
     ]
    },
    {
     "name": "stdout",
     "output_type": "stream",
     "text": [
      "New array after replacing elements greater than threshold:\n",
      "[[1 2 3]\n",
      " [3 3 3]]\n"
     ]
    }
   ],
   "source": [
    "import numpy as np\n",
    "\n",
    "def get_user_input():\n",
    "    rows = int(input(\"Enter the number of rows: \"))\n",
    "    cols = int(input(\"Enter the number of columns: \"))\n",
    "    print(\"Enter elements for the array:\")\n",
    "    arr = []\n",
    "    for i in range(rows):\n",
    "        row = list(map(int, input(f\"Enter the numbers for row {i+1} separated by spaces: \").split()))\n",
    "        if len(row) != cols:\n",
    "            print(\"Error: Number of elements in each row must match the number of columns.\")\n",
    "            return None, None\n",
    "        arr.append(row)\n",
    "    threshold = int(input(\"Enter the threshold value: \"))\n",
    "    return np.array(arr), threshold\n",
    "\n",
    "def replace_with_threshold(arr, threshold):\n",
    "    return np.where(arr > threshold, threshold, arr)\n",
    "\n",
    "\n",
    "array, threshold = get_user_input()\n",
    "if array is not None:\n",
    "\n",
    "    new_array = replace_with_threshold(array, threshold)\n",
    "\n",
    "    print(\"New array after replacing elements greater than threshold:\")\n",
    "    print(new_array)\n"
   ]
  },
  {
   "cell_type": "code",
   "execution_count": null,
   "id": "39e753e3-494d-4d1c-882c-44f0a0e1716c",
   "metadata": {},
   "outputs": [],
   "source": [
    "# 8. Write a Python program that takes a square matrix as input from the user and prints the sum of the elements located below the main diagonal."
   ]
  },
  {
   "cell_type": "code",
   "execution_count": 29,
   "id": "c9d13818-66cd-4315-b8cf-e9664a5f8b90",
   "metadata": {},
   "outputs": [
    {
     "name": "stdin",
     "output_type": "stream",
     "text": [
      "Enter the size of the square matrix:  3\n"
     ]
    },
    {
     "name": "stdout",
     "output_type": "stream",
     "text": [
      "Enter the elements of the square matrix:\n"
     ]
    },
    {
     "name": "stdin",
     "output_type": "stream",
     "text": [
      "Enter the numbers for row 1 separated by spaces:  1 2 3\n",
      "Enter the numbers for row 2 separated by spaces:  4 5 6\n",
      "Enter the numbers for row 3 separated by spaces:  7 8 9\n"
     ]
    },
    {
     "name": "stdout",
     "output_type": "stream",
     "text": [
      "Sum of elements below the main diagonal: 19\n"
     ]
    }
   ],
   "source": [
    "def get_user_input():\n",
    "    size = int(input(\"Enter the size of the square matrix: \"))\n",
    "    print(\"Enter the elements of the square matrix:\")\n",
    "    matrix = []\n",
    "    for i in range(size):\n",
    "        row = list(map(int, input(f\"Enter the numbers for row {i+1} separated by spaces: \").split()))\n",
    "        if len(row) != size:\n",
    "            print(\"Error: Number of elements in each row must match the size of the matrix.\")\n",
    "            return None\n",
    "        matrix.append(row)\n",
    "    return matrix\n",
    "\n",
    "def sum_below_main_diagonal(matrix):\n",
    "    total_sum = 0\n",
    "    for i in range(len(matrix)):\n",
    "        for j in range(i):\n",
    "            total_sum += matrix[i][j]\n",
    "    return total_sum\n",
    "\n",
    "\n",
    "matrix = get_user_input()\n",
    "if matrix is not None:\n",
    "  \n",
    "    diagonal_sum = sum_below_main_diagonal(matrix)\n",
    "\n",
    "    print(\"Sum of elements below the main diagonal:\", diagonal_sum)\n"
   ]
  },
  {
   "cell_type": "code",
   "execution_count": null,
   "id": "45bebc1c-dda2-475a-9974-ed09ecb58e34",
   "metadata": {},
   "outputs": [],
   "source": [
    "#9. Write a Python program that takes a two-dimensional NumPy array as input from the user and prints the frequencies of each unique element in the array ."
   ]
  },
  {
   "cell_type": "code",
   "execution_count": 37,
   "id": "dca0c466-f4e1-4415-bbf8-78876b7668be",
   "metadata": {},
   "outputs": [
    {
     "name": "stdin",
     "output_type": "stream",
     "text": [
      "Enter the number of rows:  3\n",
      "Enter the number of columns:  3\n"
     ]
    },
    {
     "name": "stdout",
     "output_type": "stream",
     "text": [
      "Enter the elements of the array row by row:\n"
     ]
    },
    {
     "name": "stdin",
     "output_type": "stream",
     "text": [
      " 1 2 3\n",
      " 1 2 3\n",
      " 4 5 6\n"
     ]
    },
    {
     "name": "stdout",
     "output_type": "stream",
     "text": [
      "Input Array:\n",
      "[[1 2 3]\n",
      " [1 2 3]\n",
      " [4 5 6]]\n",
      "Frequencies of each unique element:\n",
      "{1: 2, 2: 2, 3: 2, 4: 1, 5: 1, 6: 1}\n"
     ]
    }
   ],
   "source": [
    "import numpy as np\n",
    "\n",
    "def count_frequencies(arr):\n",
    "    unique_elements, counts = np.unique(arr, return_counts=True)\n",
    "    frequency_dict = dict(zip(unique_elements, counts))\n",
    "    return frequency_dict\n",
    "\n",
    "def main():\n",
    "    rows = int(input(\"Enter the number of rows: \"))\n",
    "    cols = int(input(\"Enter the number of columns: \"))\n",
    "\n",
    "    print(\"Enter the elements of the array row by row:\")\n",
    "    arr = []\n",
    "    for _ in range(rows):\n",
    "        row = list(map(int, input().split()))\n",
    "        arr.append(row)\n",
    "\n",
    "    array = np.array(arr)\n",
    "\n",
    "    print(\"Input Array:\")\n",
    "    print(array)\n",
    "\n",
    "    frequencies = count_frequencies(array)\n",
    "    print(\"Frequencies of each unique element:\")\n",
    "    print(frequencies)\n",
    "\n",
    "if __name__ == \"__main__\":\n",
    "    main()\n"
   ]
  },
  {
   "cell_type": "code",
   "execution_count": null,
   "id": "eb8d92a0-b0d9-4634-92fa-53a6e08c52ea",
   "metadata": {},
   "outputs": [],
   "source": [
    "# 10. WAP to create a 2d numpy array of armstrong numbers (array size given by user)"
   ]
  },
  {
   "cell_type": "code",
   "execution_count": null,
   "id": "b0779f3f-e65f-44af-8c09-ddbd9a3813da",
   "metadata": {},
   "outputs": [],
   "source": [
    "import numpy as np\n",
    "\n",
    "def is_armstrong(num):\n",
    "    # Calculate the number of digits\n",
    "    num_str = str(num)\n",
    "    num_digits = len(num_str)\n",
    "    \n",
    "    # Calculate the sum of digits raised to the power of the number of digits\n",
    "    armstrong_sum = sum(int(digit)**num_digits for digit in num_str)\n",
    "    \n",
    "    # Check if the number is Armstrong\n",
    "    return armstrong_sum == num\n",
    "\n",
    "def generate_armstrong_numbers(row, col):\n",
    "    armstrong_numbers = []\n",
    "    num = 1\n",
    "    while len(armstrong_numbers) < row * col:\n",
    "        if is_armstrong(num):\n",
    "            armstrong_numbers.append(num)\n",
    "        num += 1\n",
    "    return np.array(armstrong_numbers).reshape(row, col)\n",
    "\n",
    "def main():\n",
    "    row = int(input(\"Enter the number of rows: \"))\n",
    "    col = int(input(\"Enter the number of columns: \"))\n",
    "\n",
    "    armstrong_array = generate_armstrong_numbers(row, col)\n",
    "\n",
    "    print(\"2D NumPy Array of Armstrong Numbers:\")\n",
    "    print(armstrong_array)\n",
    "\n",
    "if __name__ == \"__main__\":\n",
    "    main()\n"
   ]
  }
 ],
 "metadata": {
  "kernelspec": {
   "display_name": "Python 3 (ipykernel)",
   "language": "python",
   "name": "python3"
  },
  "language_info": {
   "codemirror_mode": {
    "name": "ipython",
    "version": 3
   },
   "file_extension": ".py",
   "mimetype": "text/x-python",
   "name": "python",
   "nbconvert_exporter": "python",
   "pygments_lexer": "ipython3",
   "version": "3.11.0"
  }
 },
 "nbformat": 4,
 "nbformat_minor": 5
}
